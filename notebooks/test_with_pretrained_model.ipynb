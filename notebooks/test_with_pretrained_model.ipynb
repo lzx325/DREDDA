{
 "cells": [
  {
   "cell_type": "code",
   "execution_count": 1,
   "metadata": {},
   "outputs": [
    {
     "name": "stderr",
     "output_type": "stream",
     "text": [
      "/home/liz0f/anaconda3/envs/dredda/lib/python3.8/site-packages/tqdm/auto.py:21: TqdmWarning: IProgress not found. Please update jupyter and ipywidgets. See https://ipywidgets.readthedocs.io/en/stable/user_install.html\n",
      "  from .autonotebook import tqdm as notebook_tqdm\n"
     ]
    }
   ],
   "source": [
    "import os\n",
    "from os.path import join\n",
    "from itertools import chain\n",
    "import argparse\n",
    "import yaml\n",
    "\n",
    "import pandas as pd\n",
    "import numpy as np\n",
    "\n",
    "import sklearn\n",
    "import sklearn.model_selection\n",
    "import sklearn.preprocessing\n",
    "import sklearn.ensemble\n",
    "import sklearn.manifold\n",
    "import sklearn.linear_model\n",
    "import sklearn.svm\n",
    "\n",
    "import torch\n",
    "import torch.utils.data\n",
    "\n",
    "import dredda.model as model\n",
    "\n",
    "import dredda.data as data\n",
    "import dredda.test as test\n",
    "import dredda.model as model\n",
    "import dredda.train as train\n",
    "from dredda.cloud_files import remote_files_manifest, remote_files_checksum, download_if_not_exist,local_prefix\n",
    "from dredda.helpers import seed_all\n",
    "os.chdir(\"../\")"
   ]
  },
  {
   "cell_type": "markdown",
   "metadata": {},
   "source": [
    "# Reproduce the prediction list with the pretrained model"
   ]
  },
  {
   "cell_type": "markdown",
   "metadata": {},
   "source": [
    "Specify the parameters"
   ]
  },
  {
   "cell_type": "code",
   "execution_count": 2,
   "metadata": {},
   "outputs": [],
   "source": [
    "from argparse import Namespace\n",
    "args=Namespace()\n",
    "args.ckpt_fp=join(local_prefix, \"checkpoint/CRISPRi_LINCS-model-epoch_best-20210320.pt\")\n",
    "args.lincs_level5_fs_table_fp=join(local_prefix, \"dataset/CRISPRi_LINCS_processed/level5_ae_expectation_logtrans_fs_1000-368.hdf\")\n",
    "args.source_dataset_name=\"CRISPRi\"\n",
    "args.target_dataset_name=\"LINCS\"\n",
    "args.out_dir=\"train_dir/notebook-test\"\n",
    "test_out_dir = join(args.out_dir, \"test\")\n",
    "args.reference_score_fp=None\n",
    "if os.path.isdir(test_out_dir):\n",
    "    raise ValueError(f\"{test_out_dir} already exists\")\n",
    "else:\n",
    "    os.makedirs(test_out_dir)\n",
    "# save args\n",
    "args_fp = join(test_out_dir, \"test--args.yaml\")\n",
    "with open(args_fp, \"x\") as f:\n",
    "    yaml.dump(args.__dict__, f)"
   ]
  },
  {
   "cell_type": "markdown",
   "metadata": {},
   "source": [
    "Load data"
   ]
  },
  {
   "cell_type": "code",
   "execution_count": 3,
   "metadata": {},
   "outputs": [],
   "source": [
    "level5_fs_df = pd.read_hdf(args.lincs_level5_fs_table_fp)\n",
    "level5_fs_df_T = level5_fs_df.T"
   ]
  },
  {
   "cell_type": "markdown",
   "metadata": {},
   "source": [
    "Create model"
   ]
  },
  {
   "cell_type": "code",
   "execution_count": 4,
   "metadata": {},
   "outputs": [
    {
     "data": {
      "text/plain": [
       "<All keys matched successfully>"
      ]
     },
     "execution_count": 4,
     "metadata": {},
     "output_type": "execute_result"
    }
   ],
   "source": [
    "model_fp = args.ckpt_fp\n",
    "model_new = model.FCModelDualBranchAE(n_in_features=level5_fs_df_T.shape[1])\n",
    "model_new.load_state_dict(torch.load(model_fp))"
   ]
  },
  {
   "cell_type": "markdown",
   "metadata": {},
   "source": [
    "Get Prediction"
   ]
  },
  {
   "cell_type": "code",
   "execution_count": 5,
   "metadata": {},
   "outputs": [],
   "source": [
    "trainer_new = train.DualBranchDATrainer(\n",
    "    model_new,\n",
    "    args.source_dataset_name,\n",
    "    args.target_dataset_name,\n",
    "    model_new.ae_encoder_t.parameters(),\n",
    "    chain(\n",
    "        model_new.ae_encoder_s.parameters(),\n",
    "        model_new.ae_decoder.parameters(),\n",
    "        model_new.feature.parameters(),\n",
    "        model_new.class_classifier.parameters(),\n",
    "        model_new.domain_classifier.parameters(),\n",
    "    ),\n",
    ")\n",
    "\n",
    "level5_pred_raw = trainer_new.predict(level5_fs_df_T.values, \"source\", True)[0]\n",
    "\n",
    "def pred_post_process(pred, feature_df):\n",
    "    from scipy.special import softmax\n",
    "\n",
    "    pred_df = pd.DataFrame(\n",
    "        pred,\n",
    "        index=feature_df.index,\n",
    "        columns=[\"class_%d\" % (i) for i in range(pred.shape[1])],\n",
    "    )\n",
    "    pred_df[\"prediction_expected_classes\"] = pred_df.loc[\n",
    "        :, [\"class_2\", \"class_3\"]\n",
    "    ].sum(axis=1)\n",
    "    pred_df = pred_df.apply(softmax, axis=1)\n",
    "    return pred_df\n",
    "\n",
    "level5_pred_df = pred_post_process(level5_pred_raw, level5_fs_df_T)"
   ]
  },
  {
   "cell_type": "markdown",
   "metadata": {},
   "source": [
    "Evaluate and save prediction"
   ]
  },
  {
   "cell_type": "code",
   "execution_count": 6,
   "metadata": {},
   "outputs": [
    {
     "name": "stdout",
     "output_type": "stream",
     "text": [
      "{'entropy_ratio': 0.4007786226992918, 'mean_reciprocal_rank_exp_results': 0.009967780499349432, 'nDCG@50_exp_results': 0.0499856902407718, 'nDCG@100_exp_results': 0.07967856834212413, 'nDCG@150_exp_results': 0.10728093149426379, 'nDCG@200_exp_results': 0.10728093149426379, 'mean_reciprocal_rank_deccode': 0.019108043498413763, 'nDCG@50_deccode': 0.10132434387953139, 'nDCG@100_deccode': 0.13341365300561292, 'nDCG@150_deccode': 0.13341365300561292, 'nDCG@200_deccode': 0.18450497091673512}\n"
     ]
    }
   ],
   "source": [
    "root_dir = \"download/dataset\"\n",
    "siginfo_fp = join(root_dir, \"LINCS/GSE70138_Broad_LINCS_sig_info_2017-03-06.txt\")\n",
    "exp_results_fp = join(root_dir, \"exp_results_single/exp_results_single.csv\")\n",
    "deccode_plurip_fp = join(root_dir, \"others/deccode_plurip.csv\")\n",
    "\n",
    "lre = test.PredictionEvaluator(\n",
    "    full_prediction_df=level5_pred_df,\n",
    "    features_df=level5_fs_df_T,\n",
    "    siginfo_fp=siginfo_fp,\n",
    "    ref_score_fp=args.reference_score_fp,\n",
    "    exp_results_fp=exp_results_fp,\n",
    "    deccode_plurip_fp=deccode_plurip_fp,\n",
    ")\n",
    "\n",
    "lre.save_prediction(out_dir=test_out_dir)\n",
    "\n",
    "lre.save_evaluation_score(out_dir=test_out_dir)"
   ]
  }
 ],
 "metadata": {
  "kernelspec": {
   "display_name": "dredda",
   "language": "python",
   "name": "python3"
  },
  "language_info": {
   "codemirror_mode": {
    "name": "ipython",
    "version": 3
   },
   "file_extension": ".py",
   "mimetype": "text/x-python",
   "name": "python",
   "nbconvert_exporter": "python",
   "pygments_lexer": "ipython3",
   "version": "3.8.19"
  },
  "toc": {
   "base_numbering": 1,
   "nav_menu": {},
   "number_sections": true,
   "sideBar": true,
   "skip_h1_title": false,
   "title_cell": "Table of Contents",
   "title_sidebar": "Contents",
   "toc_cell": false,
   "toc_position": {},
   "toc_section_display": true,
   "toc_window_display": false
  }
 },
 "nbformat": 4,
 "nbformat_minor": 4
}
